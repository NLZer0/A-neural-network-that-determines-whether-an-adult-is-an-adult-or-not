{
 "cells": [
  {
   "cell_type": "code",
   "execution_count": 1,
   "id": "2d6603c2",
   "metadata": {},
   "outputs": [],
   "source": [
    "import numpy as np \n",
    "import pandas as pd\n",
    "import torch"
   ]
  },
  {
   "cell_type": "code",
   "execution_count": 2,
   "id": "c0e690ea",
   "metadata": {},
   "outputs": [],
   "source": [
    "dataset = pd.read_csv('Parsed_data.csv')"
   ]
  },
  {
   "cell_type": "code",
   "execution_count": 3,
   "id": "1dd12703",
   "metadata": {},
   "outputs": [
    {
     "data": {
      "text/html": [
       "<div>\n",
       "<style scoped>\n",
       "    .dataframe tbody tr th:only-of-type {\n",
       "        vertical-align: middle;\n",
       "    }\n",
       "\n",
       "    .dataframe tbody tr th {\n",
       "        vertical-align: top;\n",
       "    }\n",
       "\n",
       "    .dataframe thead th {\n",
       "        text-align: right;\n",
       "    }\n",
       "</style>\n",
       "<table border=\"1\" class=\"dataframe\">\n",
       "  <thead>\n",
       "    <tr style=\"text-align: right;\">\n",
       "      <th></th>\n",
       "      <th>img_path</th>\n",
       "      <th>age</th>\n",
       "    </tr>\n",
       "  </thead>\n",
       "  <tbody>\n",
       "    <tr>\n",
       "      <th>0</th>\n",
       "      <td>C:\\Users\\zanzi\\Desktop\\Python\\LAG_dataset\\data...</td>\n",
       "      <td>y</td>\n",
       "    </tr>\n",
       "    <tr>\n",
       "      <th>1</th>\n",
       "      <td>C:\\Users\\zanzi\\Desktop\\Python\\LAG_dataset\\data...</td>\n",
       "      <td>y</td>\n",
       "    </tr>\n",
       "    <tr>\n",
       "      <th>2</th>\n",
       "      <td>C:\\Users\\zanzi\\Desktop\\Python\\LAG_dataset\\data...</td>\n",
       "      <td>y</td>\n",
       "    </tr>\n",
       "    <tr>\n",
       "      <th>3</th>\n",
       "      <td>C:\\Users\\zanzi\\Desktop\\Python\\LAG_dataset\\data...</td>\n",
       "      <td>y</td>\n",
       "    </tr>\n",
       "    <tr>\n",
       "      <th>4</th>\n",
       "      <td>C:\\Users\\zanzi\\Desktop\\Python\\LAG_dataset\\data...</td>\n",
       "      <td>a</td>\n",
       "    </tr>\n",
       "  </tbody>\n",
       "</table>\n",
       "</div>"
      ],
      "text/plain": [
       "                                            img_path age\n",
       "0  C:\\Users\\zanzi\\Desktop\\Python\\LAG_dataset\\data...   y\n",
       "1  C:\\Users\\zanzi\\Desktop\\Python\\LAG_dataset\\data...   y\n",
       "2  C:\\Users\\zanzi\\Desktop\\Python\\LAG_dataset\\data...   y\n",
       "3  C:\\Users\\zanzi\\Desktop\\Python\\LAG_dataset\\data...   y\n",
       "4  C:\\Users\\zanzi\\Desktop\\Python\\LAG_dataset\\data...   a"
      ]
     },
     "execution_count": 3,
     "metadata": {},
     "output_type": "execute_result"
    }
   ],
   "source": [
    "dataset.head()"
   ]
  },
  {
   "cell_type": "code",
   "execution_count": 4,
   "id": "9cc12d2e",
   "metadata": {},
   "outputs": [],
   "source": [
    "img_paths = np.asarray(dataset.img_path)\n",
    "labels = np.asarray(dataset.age)"
   ]
  },
  {
   "cell_type": "code",
   "execution_count": 5,
   "id": "b952bdca",
   "metadata": {},
   "outputs": [],
   "source": [
    "labels[labels=='y'] = 0\n",
    "labels[labels=='a'] = 1"
   ]
  },
  {
   "cell_type": "code",
   "execution_count": 6,
   "id": "139640ee",
   "metadata": {},
   "outputs": [
    {
     "data": {
      "text/plain": [
       "array([0, 0, 0, ..., 1, 0, 1], dtype=object)"
      ]
     },
     "execution_count": 6,
     "metadata": {},
     "output_type": "execute_result"
    }
   ],
   "source": [
    "labels"
   ]
  },
  {
   "cell_type": "code",
   "execution_count": 7,
   "id": "07ca252e",
   "metadata": {},
   "outputs": [],
   "source": [
    "from PIL import Image\n",
    "import matplotlib.pyplot as plt"
   ]
  },
  {
   "cell_type": "code",
   "execution_count": 8,
   "id": "c0b3e892",
   "metadata": {},
   "outputs": [],
   "source": [
    "images = {}"
   ]
  },
  {
   "cell_type": "code",
   "execution_count": 9,
   "id": "21b6c76a",
   "metadata": {},
   "outputs": [],
   "source": [
    "ind = 0\n",
    "for img_path in img_paths:\n",
    "    img = np.asarray(Image.open(img_path))\n",
    "    images[ind] = img\n",
    "    ind+=1\n",
    "    "
   ]
  },
  {
   "cell_type": "code",
   "execution_count": 10,
   "id": "f0f76e8e",
   "metadata": {},
   "outputs": [],
   "source": [
    "images = list(images.values()) "
   ]
  },
  {
   "cell_type": "code",
   "execution_count": 11,
   "id": "2d827c9e",
   "metadata": {},
   "outputs": [],
   "source": [
    "images = np.asarray(images)"
   ]
  },
  {
   "cell_type": "code",
   "execution_count": 12,
   "id": "5eaeecc9",
   "metadata": {},
   "outputs": [
    {
     "data": {
      "text/plain": [
       "(3828, 100, 100, 3)"
      ]
     },
     "execution_count": 12,
     "metadata": {},
     "output_type": "execute_result"
    }
   ],
   "source": [
    "images.shape"
   ]
  },
  {
   "cell_type": "code",
   "execution_count": 13,
   "id": "718c3f48",
   "metadata": {},
   "outputs": [
    {
     "data": {
      "text/plain": [
       "(3828,)"
      ]
     },
     "execution_count": 13,
     "metadata": {},
     "output_type": "execute_result"
    }
   ],
   "source": [
    "labels.shape"
   ]
  },
  {
   "cell_type": "code",
   "execution_count": 14,
   "id": "87a8d239",
   "metadata": {},
   "outputs": [],
   "source": [
    "from sklearn import preprocessing"
   ]
  },
  {
   "cell_type": "code",
   "execution_count": 15,
   "id": "10544eac",
   "metadata": {},
   "outputs": [],
   "source": [
    "images = preprocessing.scale(images.reshape(images.shape[0],-1), axis=1).reshape(images.shape[0], 100,100,3)"
   ]
  },
  {
   "cell_type": "code",
   "execution_count": 16,
   "id": "29e6ec7c",
   "metadata": {},
   "outputs": [],
   "source": [
    "images = torch.FloatTensor(images).reshape(-1,3,100,100)\n",
    "labels = torch.LongTensor(list(labels))\n",
    "train_size = int(0.75 * images.shape[0])\n",
    "train_X = images[:train_size]\n",
    "train_y = labels[:train_size]\n",
    "\n",
    "test_X = images[train_size:]\n",
    "test_y = labels[train_size:]"
   ]
  },
  {
   "cell_type": "code",
   "execution_count": 17,
   "id": "c4204b2c",
   "metadata": {},
   "outputs": [
    {
     "data": {
      "text/plain": [
       "tensor([0, 0, 0,  ..., 0, 1, 0])"
      ]
     },
     "execution_count": 17,
     "metadata": {},
     "output_type": "execute_result"
    }
   ],
   "source": [
    "train_y"
   ]
  },
  {
   "cell_type": "code",
   "execution_count": 18,
   "id": "1d672eb9",
   "metadata": {},
   "outputs": [
    {
     "data": {
      "text/plain": [
       "3828"
      ]
     },
     "execution_count": 18,
     "metadata": {},
     "output_type": "execute_result"
    }
   ],
   "source": [
    "train_X.shape[0] + test_X.shape[0]"
   ]
  },
  {
   "cell_type": "code",
   "execution_count": 19,
   "id": "1e3ce0ca",
   "metadata": {},
   "outputs": [],
   "source": [
    "from torch import nn\n",
    "from torch.nn import functional as F "
   ]
  },
  {
   "cell_type": "code",
   "execution_count": 20,
   "id": "c40963d2",
   "metadata": {},
   "outputs": [],
   "source": [
    "device = 'cuda' if torch.cuda.is_available() else 'cpu'"
   ]
  },
  {
   "cell_type": "code",
   "execution_count": 176,
   "id": "83375d84",
   "metadata": {},
   "outputs": [],
   "source": [
    "class ConvModel(nn.Module):\n",
    "    def __init__(self):\n",
    "        super().__init__()\n",
    "        self.conv_lay_1 = nn.Conv2d(in_channels=3, out_channels=32, kernel_size=5)\n",
    "        self.poop_lay = nn.MaxPool2d(kernel_size=3, stride=3)\n",
    "        self.conv_lay_2 = nn.Conv2d(in_channels=32, out_channels=64, kernel_size=5)\n",
    "    \n",
    "        self.line_lay_1 = nn.Linear(9*9*64, 600)\n",
    "        self.line_lay_2 = nn.Linear(600, 300)\n",
    "        self.line_lay_3 = nn.Linear(300, 150)\n",
    "        self.line_lay_4 = nn.Linear(150, 2)\n",
    "        \n",
    "    def forward(self, X):\n",
    "        X = self.poop_lay(F.relu(self.conv_lay_1(X)))\n",
    "        X = self.poop_lay(F.relu(self.conv_lay_2(X)))\n",
    "        \n",
    "        X = X.reshape(-1, 9*9*64)\n",
    "        X = F.relu(self.line_lay_1(X))\n",
    "        X = F.relu(self.line_lay_2(X))\n",
    "        X = F.relu(self.line_lay_3(X))\n",
    "        X = self.line_lay_4(X)\n",
    "        return X"
   ]
  },
  {
   "cell_type": "code",
   "execution_count": 177,
   "id": "6c045def",
   "metadata": {},
   "outputs": [],
   "source": [
    "torch.cuda.empty_cache()"
   ]
  },
  {
   "cell_type": "code",
   "execution_count": 178,
   "id": "20961446",
   "metadata": {},
   "outputs": [],
   "source": [
    "model = ConvModel().to(device)"
   ]
  },
  {
   "cell_type": "code",
   "execution_count": 179,
   "id": "2497fb03",
   "metadata": {},
   "outputs": [],
   "source": [
    "batch_size = 128\n",
    "learning_rate = 1e-3\n",
    "loss_fn = nn.CrossEntropyLoss()\n",
    "optim = torch.optim.Adam(model.parameters(), lr=learning_rate)\n",
    "epochs = 20\n",
    "count_of_batchs = int(train_X.shape[0]/batch_size)"
   ]
  },
  {
   "cell_type": "code",
   "execution_count": 180,
   "id": "0619e3bd",
   "metadata": {},
   "outputs": [],
   "source": [
    "import tqdm.notebook as tq "
   ]
  },
  {
   "cell_type": "code",
   "execution_count": 181,
   "id": "0e727866",
   "metadata": {
    "scrolled": true
   },
   "outputs": [
    {
     "data": {
      "application/vnd.jupyter.widget-view+json": {
       "model_id": "b22dbff56ca5444e8c629e17f86aad8a",
       "version_major": 2,
       "version_minor": 0
      },
      "text/plain": [
       "  0%|          | 0/20 [00:00<?, ?it/s]"
      ]
     },
     "metadata": {},
     "output_type": "display_data"
    },
    {
     "name": "stdout",
     "output_type": "stream",
     "text": [
      "15.60620367527008\n",
      "13.281825184822083\n",
      "12.352392882108688\n",
      "11.975340843200684\n",
      "11.289961993694305\n",
      "10.606669664382935\n",
      "10.151229172945023\n",
      "9.999511122703552\n",
      "9.739887058734894\n",
      "9.26303619146347\n",
      "8.810310512781143\n",
      "8.00934286415577\n",
      "7.59443973004818\n",
      "7.618304297327995\n",
      "8.183518648147583\n",
      "8.235424980521202\n",
      "8.205431193113327\n",
      "7.554533004760742\n",
      "8.148175299167633\n",
      "7.51912048459053\n"
     ]
    }
   ],
   "source": [
    "torch.cuda.empty_cache()\n",
    "loss_history = []\n",
    "for epoch in tq.tqdm(range(epochs)):\n",
    "    cur_loss = 0\n",
    "    for i in range(count_of_batchs):\n",
    "        batch_X = train_X[i*batch_size:(i+1)*batch_size]\n",
    "        batch_y = train_y[i*batch_size:(i+1)*batch_size]\n",
    "        probs = model.forward(batch_X.to(device))\n",
    "        \n",
    "        loss = loss_fn(probs, batch_y.to(device))\n",
    "        \n",
    "        cur_loss += loss.item()\n",
    "        \n",
    "        optim.zero_grad()\n",
    "        loss.backward()\n",
    "        optim.step()\n",
    "        \n",
    "    print(cur_loss)\n",
    "    loss_history.append(cur_loss)   "
   ]
  },
  {
   "cell_type": "code",
   "execution_count": 182,
   "id": "e233972b",
   "metadata": {},
   "outputs": [
    {
     "data": {
      "text/plain": [
       "[<matplotlib.lines.Line2D at 0x1ecf29fedf0>]"
      ]
     },
     "execution_count": 182,
     "metadata": {},
     "output_type": "execute_result"
    },
    {
     "data": {
      "image/png": "[encoded data removed]",
      "text/plain": [
       "<Figure size 432x288 with 1 Axes>"
      ]
     },
     "metadata": {
      "needs_background": "light"
     },
     "output_type": "display_data"
    }
   ],
   "source": [
    "plt.plot(loss_history)"
   ]
  },
  {
   "cell_type": "code",
   "execution_count": 183,
   "id": "c0de8266",
   "metadata": {},
   "outputs": [
    {
     "data": {
      "application/vnd.jupyter.widget-view+json": {
       "model_id": "2ff1a39731204387a15915c5987ae363",
       "version_major": 2,
       "version_minor": 0
      },
      "text/plain": [
       "  0%|          | 0/7 [00:00<?, ?it/s]"
      ]
     },
     "metadata": {},
     "output_type": "display_data"
    }
   ],
   "source": [
    "model.cpu()\n",
    "count_of_batchs = int(test_X.shape[0]/batch_size)\n",
    "with torch.no_grad():\n",
    "    acc = []\n",
    "    for i in tq.tqdm(range(count_of_batchs)):\n",
    "        batch_X = test_X[i*batch_size:(i+1)*batch_size]\n",
    "        batch_y = test_y[i*batch_size:(i+1)*batch_size]\n",
    "        probs = model.forward(batch_X)\n",
    "        prediction = np.argmax(probs, axis=1)\n",
    "        acc.append(torch.sum(prediction == batch_y)/batch_y.shape[0])\n",
    "    acc = np.mean(acc)\n",
    "    "
   ]
  },
  {
   "cell_type": "code",
   "execution_count": 184,
   "id": "522310bb",
   "metadata": {},
   "outputs": [
    {
     "data": {
      "text/plain": [
       "0.7890625"
      ]
     },
     "execution_count": 184,
     "metadata": {},
     "output_type": "execute_result"
    }
   ],
   "source": [
    "acc"
   ]
  },
  {
   "cell_type": "code",
   "execution_count": null,
   "id": "7d742af2",
   "metadata": {},
   "outputs": [],
   "source": []
  }
 ],
 "metadata": {
  "kernelspec": {
   "display_name": "Python 3 (ipykernel)",
   "language": "python",
   "name": "python3"
  },
  "language_info": {
   "codemirror_mode": {
    "name": "ipython",
    "version": 3
   },
   "file_extension": ".py",
   "mimetype": "text/x-python",
   "name": "python",
   "nbconvert_exporter": "python",
   "pygments_lexer": "ipython3",
   "version": "3.9.1"
  }
 },
 "nbformat": 4,
 "nbformat_minor": 5
}
